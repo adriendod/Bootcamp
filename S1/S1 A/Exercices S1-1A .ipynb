{
 "cells": [
  {
   "cell_type": "code",
   "execution_count": 1,
   "metadata": {},
   "outputs": [
    {
     "name": "stdout",
     "output_type": "stream",
     "text": [
      "De quel groupe faisait parti Kurt Cobain?27\n",
      "Dommage, ce n’est pas la bonne réponse\n",
      "Il vous reste 2 réponses\n",
      "De quel groupe faisait parti Kurt Cobain?Nirvana\n",
      "Bravo, c’est la bonne réponse\n",
      "A quel age est il mort?27\n",
      "Bravo, c’est la bonne réponse\n",
      "De quel instrument jouait-il?Guitare\n",
      "Bravo, c’est la bonne réponse, Vous avez répondu a toutes les questions! GG\n"
     ]
    }
   ],
   "source": [
    "x = False\n",
    "Tries = 3\n",
    "\n",
    "def question = \n",
    "\n",
    "while (x == False) & (Tries >  0) :\n",
    "    answer1 = input(\"De quel groupe faisait parti Kurt Cobain?\")\n",
    "    if answer1 == \"Nirvana\" :\n",
    "        print(\"Bravo, c’est la bonne réponse\")\n",
    "        x = True\n",
    "    else :\n",
    "        print(\"Dommage, ce n’est pas la bonne réponse\")\n",
    "        Tries -= 1\n",
    "        print(\"Il vous reste \" + str(Tries) + \" réponses\")\n",
    "\n",
    "x = False\n",
    "while (x == False) & (Tries >  0) :\n",
    "    answer1 = input(\"A quel age est il mort?\")\n",
    "    if answer1 == \"27\" :\n",
    "        print(\"Bravo, c’est la bonne réponse\")\n",
    "        x = True\n",
    "    else :\n",
    "        print(\"Dommage, ce n’est pas la bonne réponse\")\n",
    "        Tries -= 1\n",
    "        print(\"Il vous reste \" + str(Tries) + \" réponses\")\n",
    "\n",
    "\n",
    "x = False\n",
    "while (x == False) & (Tries >  0) :\n",
    "    answer1 = input(\"De quel instrument jouait-il?\")\n",
    "    if answer1 == \"Guitare\" :\n",
    "        print(\"Bravo, c’est la bonne réponse, Vous avez répondu a toutes les questions! GG\")\n",
    "        x = True\n",
    "    else :\n",
    "        print(\"Dommage, ce n’est pas la bonne réponse\")\n",
    "        Tries -= 1\n",
    "        print(\"Il vous reste \" + str(Tries) + \" réponses\")\n",
    "\n",
    "if x == False :\n",
    "    print(\"Dommage tu as perdu le jeu\")\t"
   ]
  },
  {
   "cell_type": "code",
   "execution_count": null,
   "metadata": {},
   "outputs": [],
   "source": []
  },
  {
   "cell_type": "code",
   "execution_count": null,
   "metadata": {},
   "outputs": [],
   "source": []
  }
 ],
 "metadata": {
  "kernelspec": {
   "display_name": "Python 3",
   "language": "python",
   "name": "python3"
  },
  "language_info": {
   "codemirror_mode": {
    "name": "ipython",
    "version": 3
   },
   "file_extension": ".py",
   "mimetype": "text/x-python",
   "name": "python",
   "nbconvert_exporter": "python",
   "pygments_lexer": "ipython3",
   "version": "3.7.1"
  }
 },
 "nbformat": 4,
 "nbformat_minor": 2
}
