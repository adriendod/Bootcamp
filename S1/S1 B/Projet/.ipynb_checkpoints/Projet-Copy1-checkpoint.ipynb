{
 "cells": [
  {
   "cell_type": "code",
   "execution_count": 1,
   "metadata": {},
   "outputs": [],
   "source": [
    "def retour_capital(capital_i, interet, nb_annee):\n",
    "    return capital_i*(1 + (interet/100))**nb_annee"
   ]
  },
  {
   "cell_type": "code",
   "execution_count": 8,
   "metadata": {},
   "outputs": [
    {
     "name": "stdout",
     "output_type": "stream",
     "text": [
      "Quel est votre capital investi1000\n",
      "Quel est votre taux d'interet?2\n",
      "En combien d'annee souhaitez vous investir2\n",
      "Votre retour sur investissement est de 1040.4 euros\n"
     ]
    }
   ],
   "source": [
    "def question(arg):\n",
    "    while True :\n",
    "        try :\n",
    "            value = float(input(arg))\n",
    "            while value < 0 :\n",
    "                print(\"Veuillez rentrer un nombre positif\")\n",
    "                value = float(input(arg))         \n",
    "        except :\n",
    "            print(\"Veuillez rentrer un nombre decimal\")\n",
    "            continue\n",
    "        break\n",
    "    return value\n",
    "        \n",
    "capital_i = question(\"Quel est votre capital investi\")\n",
    "interet = question(\"Quel est votre taux d'interet?\")\n",
    "nb_annee = question(\"En combien d'annee souhaitez vous investir\")\n",
    "invest_return = str(round(retour_capital(capital_i, interet, nb_annee), 2))\n",
    "print(\"Votre retour sur investissement est de {} euros\".format(invest_return))  \n",
    "\n",
    "    "
   ]
  },
  {
   "cell_type": "markdown",
   "metadata": {},
   "source": [
    "# TODO LIST"
   ]
  },
  {
   "cell_type": "code",
   "execution_count": 20,
   "metadata": {},
   "outputs": [
    {
     "name": "stdout",
     "output_type": "stream",
     "text": [
      "['un chapeau', 'acheter du coca cola']\n",
      "voulez vous ajouter une element a votre todo? O/NO\n",
      "Que voulez vous ajouter a votre to do?Acheter des plumes\n",
      "['un chapeau', 'acheter du coca cola', 'Acheter des plumes']\n",
      "voulez vous supprimer un element de votre todo? O/NO\n",
      "Quel element voulez vous supprimer?1\n",
      "['acheter du coca cola', 'Acheter des plumes']\n"
     ]
    }
   ],
   "source": [
    "\n",
    "# verifier que la variable est defini\n",
    "try:\n",
    "    todo_list\n",
    "except NameError:\n",
    "    todo_list = None\n",
    "\n",
    "# Test whether variable is defined to be None\n",
    "if todo_list is None:\n",
    "    todo_list = []\n",
    "else:\n",
    "    print(todo_list)\n",
    "\n",
    "if input(\"voulez vous ajouter une element a votre todo? O/N\") == \"O\" :\n",
    "    todo_list.append(input(\"Que voulez vous ajouter a votre to do?\"))\n",
    "print(todo_list)\n",
    "if input(\"voulez vous supprimer un element de votre todo? O/N\") == \"O\" :\n",
    "    value = int(input(\"Quel element voulez vous supprimer?\"))-1\n",
    "    todo_list.pop(value)\n",
    "print(todo_list)\n",
    "\n",
    "    "
   ]
  },
  {
   "cell_type": "code",
   "execution_count": null,
   "metadata": {},
   "outputs": [],
   "source": []
  },
  {
   "cell_type": "code",
   "execution_count": null,
   "metadata": {},
   "outputs": [],
   "source": []
  }
 ],
 "metadata": {
  "kernelspec": {
   "display_name": "Python 3",
   "language": "python",
   "name": "python3"
  },
  "language_info": {
   "codemirror_mode": {
    "name": "ipython",
    "version": 3
   },
   "file_extension": ".py",
   "mimetype": "text/x-python",
   "name": "python",
   "nbconvert_exporter": "python",
   "pygments_lexer": "ipython3",
   "version": "3.7.1"
  }
 },
 "nbformat": 4,
 "nbformat_minor": 2
}
