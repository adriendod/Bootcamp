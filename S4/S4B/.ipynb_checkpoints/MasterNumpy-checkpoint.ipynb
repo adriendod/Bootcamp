{
 "cells": [
  {
   "cell_type": "markdown",
   "metadata": {},
   "source": [
    "# Master Numpy \n",
    "\n",
    "## Quelques fonctions utiles"
   ]
  },
  {
   "cell_type": "markdown",
   "metadata": {},
   "source": [
    "On a créé un tableau 2D contenant des valeurs aléatoires. "
   ]
  },
  {
   "cell_type": "code",
   "execution_count": 1,
   "metadata": {},
   "outputs": [],
   "source": [
    "import numpy as np\n",
    "rdm_mat = np.random.randn(20, 20)"
   ]
  },
  {
   "cell_type": "markdown",
   "metadata": {},
   "source": [
    "Donner le type de la variable rdm_mat"
   ]
  },
  {
   "cell_type": "code",
   "execution_count": 2,
   "metadata": {},
   "outputs": [
    {
     "data": {
      "text/plain": [
       "numpy.ndarray"
      ]
     },
     "execution_count": 2,
     "metadata": {},
     "output_type": "execute_result"
    }
   ],
   "source": [
    "type(rdm_mat)"
   ]
  },
  {
   "cell_type": "markdown",
   "metadata": {},
   "source": [
    "Donner la somme des éléments de ce tableau 2D"
   ]
  },
  {
   "cell_type": "code",
   "execution_count": 3,
   "metadata": {},
   "outputs": [
    {
     "data": {
      "text/plain": [
       "-15.27560870569079"
      ]
     },
     "execution_count": 3,
     "metadata": {},
     "output_type": "execute_result"
    }
   ],
   "source": [
    "np.sum(rdm_mat)"
   ]
  },
  {
   "cell_type": "markdown",
   "metadata": {},
   "source": [
    "Faire en sorte de récupérer la valeur maximale sur chaque ligne (sans boucles) avec la fonction np.max"
   ]
  },
  {
   "cell_type": "code",
   "execution_count": 4,
   "metadata": {},
   "outputs": [
    {
     "data": {
      "text/plain": [
       "array([1.68635349, 1.96049792, 1.93351209, 1.28875504, 1.18347468,\n",
       "       2.62356977, 1.90115003, 2.14871954, 1.64420764, 1.8280992 ,\n",
       "       1.90664553, 2.23618262, 1.6402115 , 3.22225676, 1.41545393,\n",
       "       1.39505013, 2.11286378, 2.03320489, 1.80548372, 1.95178519])"
      ]
     },
     "execution_count": 4,
     "metadata": {},
     "output_type": "execute_result"
    }
   ],
   "source": [
    "np.max(rdm_mat, axis = 1)"
   ]
  },
  {
   "cell_type": "markdown",
   "metadata": {},
   "source": [
    "Faire de même pour récupérer la valeur maximum pour chaque colonne (sans boucles)"
   ]
  },
  {
   "cell_type": "code",
   "execution_count": 5,
   "metadata": {},
   "outputs": [
    {
     "data": {
      "text/plain": [
       "array([1.68635349, 1.6402115 , 1.87306256, 1.72912117, 1.37112117,\n",
       "       3.22225676, 0.86744525, 2.62356977, 1.93351209, 2.63916532,\n",
       "       1.36660993, 2.23618262, 1.29292225, 1.90664553, 1.79672827,\n",
       "       1.51722576, 1.95178519, 0.6894297 , 2.11286378, 1.64420764])"
      ]
     },
     "execution_count": 5,
     "metadata": {},
     "output_type": "execute_result"
    }
   ],
   "source": [
    "np.max(rdm_mat, axis = 0)"
   ]
  },
  {
   "cell_type": "markdown",
   "metadata": {},
   "source": [
    "Faire la même chose (max des colonnes) en définissant un tableau avec une boucle for et la fonction max de numpy"
   ]
  },
  {
   "cell_type": "code",
   "execution_count": 6,
   "metadata": {},
   "outputs": [
    {
     "name": "stdout",
     "output_type": "stream",
     "text": [
      "[1.686353488117526, 1.6402114967079517, 1.8730625630948947, 1.7291211718485364, 1.371121170488216, 3.2222567610296586, 0.8674452487914487, 2.6235697709743233, 1.9335120941769826, 2.6391653225341924, 1.3666099323219605, 2.236182618734504, 1.2929222548697774, 1.906645531564917, 1.796728272802254, 1.5172257614158988, 1.9517851941490258, 0.6894297025590653, 2.112863779457719, 1.6442076437848652]\n"
     ]
    }
   ],
   "source": [
    "max = []\n",
    "for i in range(0,20):\n",
    "    max_col = np.max(rdm_mat[:,i])\n",
    "    max.append(max_col)\n",
    "print(max)\n",
    "\n",
    "    "
   ]
  },
  {
   "cell_type": "markdown",
   "metadata": {},
   "source": [
    "On crée un vecteur aléatoire"
   ]
  },
  {
   "cell_type": "code",
   "execution_count": 7,
   "metadata": {},
   "outputs": [
    {
     "data": {
      "text/plain": [
       "(100,)"
      ]
     },
     "execution_count": 7,
     "metadata": {},
     "output_type": "execute_result"
    }
   ],
   "source": [
    "rdm_vect = np.random.randn(100)\n",
    "rdm_vect.shape"
   ]
  },
  {
   "cell_type": "markdown",
   "metadata": {},
   "source": [
    "Récupérer la position de la valeur maximale du vecteur "
   ]
  },
  {
   "cell_type": "code",
   "execution_count": 8,
   "metadata": {},
   "outputs": [
    {
     "data": {
      "text/plain": [
       "array([-1.43938032, -0.17870294,  0.03028949, -1.27754004,  0.47554605,\n",
       "       -0.02540306, -1.21763422,  0.6138457 ,  0.84356201,  0.02475685,\n",
       "       -0.17560702, -0.84437851, -0.439454  , -0.47364297, -1.41427353,\n",
       "       -1.16279119, -1.70044505,  1.07680901,  1.27305083,  1.11680289,\n",
       "       -2.05447138,  0.08201526, -1.24204365,  0.4843483 ,  1.28159408,\n",
       "        0.9279991 ,  0.78427229,  1.06070399,  0.40391679, -0.10221539,\n",
       "       -0.20212747, -0.10784524, -0.81212472, -0.59852166,  1.8745776 ,\n",
       "        0.67553579,  0.11802404,  1.8540273 ,  1.0643659 ,  0.05093694,\n",
       "        1.49439006, -1.26882967, -1.83176364, -0.32253164, -0.69900469,\n",
       "       -0.11368319, -0.53730063,  0.6307616 ,  0.10337723,  0.21477051,\n",
       "        0.69258279,  1.0016529 ,  1.0437105 , -1.38255672,  0.32197909,\n",
       "        0.5256991 ,  0.94153242, -1.72419804, -0.55216504, -0.45267863,\n",
       "        0.46741332, -0.43840907,  0.19360242, -0.13438151, -2.52812982,\n",
       "       -0.60185389,  0.77229189,  1.07713729, -0.36413117,  0.3074379 ,\n",
       "        2.09729868,  0.90836293,  2.2550858 , -1.2353371 ,  0.21341835,\n",
       "        0.71325232, -0.14972462,  0.09994636, -0.77462126,  0.71469054,\n",
       "        1.15368381,  0.4852654 , -0.00741753, -1.25151744, -1.01941833,\n",
       "        0.71595096,  0.38179329,  0.03635253,  0.16848677, -1.23482509,\n",
       "        1.35516219,  0.03080554,  0.30422685, -0.50807134,  0.08474592,\n",
       "        0.15570468,  0.44748219, -0.3952686 ,  0.79772666, -1.83657061])"
      ]
     },
     "execution_count": 8,
     "metadata": {},
     "output_type": "execute_result"
    }
   ],
   "source": [
    "rdm_vect"
   ]
  },
  {
   "cell_type": "code",
   "execution_count": 9,
   "metadata": {},
   "outputs": [
    {
     "data": {
      "text/plain": [
       "72"
      ]
     },
     "execution_count": 9,
     "metadata": {},
     "output_type": "execute_result"
    }
   ],
   "source": [
    "np.argmax(rdm_vect)"
   ]
  },
  {
   "cell_type": "code",
   "execution_count": 10,
   "metadata": {},
   "outputs": [
    {
     "data": {
      "text/plain": [
       "1.1536838053914933"
      ]
     },
     "execution_count": 10,
     "metadata": {},
     "output_type": "execute_result"
    }
   ],
   "source": [
    "rdm_vect[80]"
   ]
  },
  {
   "cell_type": "markdown",
   "metadata": {},
   "source": [
    "Afficher cette valeur "
   ]
  },
  {
   "cell_type": "code",
   "execution_count": 11,
   "metadata": {},
   "outputs": [
    {
     "data": {
      "text/plain": [
       "2.255085795785006"
      ]
     },
     "execution_count": 11,
     "metadata": {},
     "output_type": "execute_result"
    }
   ],
   "source": [
    "np.max(rdm_vect)"
   ]
  },
  {
   "cell_type": "markdown",
   "metadata": {},
   "source": [
    "Convertir le vecteur en une matrice (10, 10)"
   ]
  },
  {
   "cell_type": "code",
   "execution_count": 12,
   "metadata": {},
   "outputs": [
    {
     "data": {
      "text/plain": [
       "array([[-1.43938032, -0.17870294,  0.03028949, -1.27754004,  0.47554605,\n",
       "        -0.02540306, -1.21763422,  0.6138457 ,  0.84356201,  0.02475685],\n",
       "       [-0.17560702, -0.84437851, -0.439454  , -0.47364297, -1.41427353,\n",
       "        -1.16279119, -1.70044505,  1.07680901,  1.27305083,  1.11680289],\n",
       "       [-2.05447138,  0.08201526, -1.24204365,  0.4843483 ,  1.28159408,\n",
       "         0.9279991 ,  0.78427229,  1.06070399,  0.40391679, -0.10221539],\n",
       "       [-0.20212747, -0.10784524, -0.81212472, -0.59852166,  1.8745776 ,\n",
       "         0.67553579,  0.11802404,  1.8540273 ,  1.0643659 ,  0.05093694],\n",
       "       [ 1.49439006, -1.26882967, -1.83176364, -0.32253164, -0.69900469,\n",
       "        -0.11368319, -0.53730063,  0.6307616 ,  0.10337723,  0.21477051],\n",
       "       [ 0.69258279,  1.0016529 ,  1.0437105 , -1.38255672,  0.32197909,\n",
       "         0.5256991 ,  0.94153242, -1.72419804, -0.55216504, -0.45267863],\n",
       "       [ 0.46741332, -0.43840907,  0.19360242, -0.13438151, -2.52812982,\n",
       "        -0.60185389,  0.77229189,  1.07713729, -0.36413117,  0.3074379 ],\n",
       "       [ 2.09729868,  0.90836293,  2.2550858 , -1.2353371 ,  0.21341835,\n",
       "         0.71325232, -0.14972462,  0.09994636, -0.77462126,  0.71469054],\n",
       "       [ 1.15368381,  0.4852654 , -0.00741753, -1.25151744, -1.01941833,\n",
       "         0.71595096,  0.38179329,  0.03635253,  0.16848677, -1.23482509],\n",
       "       [ 1.35516219,  0.03080554,  0.30422685, -0.50807134,  0.08474592,\n",
       "         0.15570468,  0.44748219, -0.3952686 ,  0.79772666, -1.83657061]])"
      ]
     },
     "execution_count": 12,
     "metadata": {},
     "output_type": "execute_result"
    }
   ],
   "source": [
    "rdm_vect = rdm_vect.reshape(10,10)\n",
    "rdm_vect"
   ]
  },
  {
   "cell_type": "markdown",
   "metadata": {},
   "source": [
    "Calculer la moyenne de chaque ligne de ce tableau (sans boucles)"
   ]
  },
  {
   "cell_type": "code",
   "execution_count": 13,
   "metadata": {},
   "outputs": [
    {
     "data": {
      "text/plain": [
       "array([-0.21506605, -0.27439295,  0.16261194,  0.39168485, -0.23298141,\n",
       "        0.04155584, -0.12490226,  0.4842372 , -0.05716456,  0.04359435])"
      ]
     },
     "execution_count": 13,
     "metadata": {},
     "output_type": "execute_result"
    }
   ],
   "source": [
    "np.mean(rdm_vect, axis = 1)"
   ]
  },
  {
   "cell_type": "markdown",
   "metadata": {},
   "source": [
    "Faire un tableau qui contient la moyenne de chaque colonne du tableau "
   ]
  },
  {
   "cell_type": "code",
   "execution_count": 14,
   "metadata": {},
   "outputs": [
    {
     "name": "stdout",
     "output_type": "stream",
     "text": [
      "[-0.2150660464305222, -0.27439295325110213, 0.16261193871782967, 0.3916848485028398, -0.23298140682145702, 0.04155583813791995, -0.12490226321580962, 0.4842372008315313, -0.05716456417441697, 0.04359434688237449]\n"
     ]
    }
   ],
   "source": [
    "mean = []\n",
    "for i in range(0,10):\n",
    "    mean_col = np.mean(rdm_vect[i,:])\n",
    "    mean.append(mean_col)\n",
    "print(mean)"
   ]
  },
  {
   "cell_type": "markdown",
   "metadata": {},
   "source": [
    "Calculer la somme de chaque colonne (sans boucles)"
   ]
  },
  {
   "cell_type": "code",
   "execution_count": 15,
   "metadata": {},
   "outputs": [
    {
     "data": {
      "text/plain": [
       "array([ 3.38894467, -0.3300634 , -0.50588848, -6.69975214, -1.40896527,\n",
       "        1.81041064, -0.1597084 ,  4.33011715,  2.96356874, -1.19689411])"
      ]
     },
     "execution_count": 15,
     "metadata": {},
     "output_type": "execute_result"
    }
   ],
   "source": [
    "np.sum(rdm_vect, axis = 0)"
   ]
  },
  {
   "cell_type": "markdown",
   "metadata": {},
   "source": [
    "Calculer la somme pour chaque ligne (sans boucles)"
   ]
  },
  {
   "cell_type": "code",
   "execution_count": 16,
   "metadata": {},
   "outputs": [
    {
     "data": {
      "text/plain": [
       "array([-2.15066046, -2.74392953,  1.62611939,  3.91684849, -2.32981407,\n",
       "        0.41555838, -1.24902263,  4.84237201, -0.57164564,  0.43594347])"
      ]
     },
     "execution_count": 16,
     "metadata": {},
     "output_type": "execute_result"
    }
   ],
   "source": [
    "np.sum(rdm_vect, axis = 1)"
   ]
  },
  {
   "cell_type": "markdown",
   "metadata": {},
   "source": [
    "## Petits exercices \n",
    "Voici une petite liste d'exercices à faire, ne pas hésiter à faire des recherche sur google ainsi que voir la [documentation officielle](https://docs.scipy.org/doc/numpy-1.13.0/reference/). "
   ]
  },
  {
   "cell_type": "markdown",
   "metadata": {},
   "source": [
    "#### Q1 : Créer un vecteur nul de taille 10"
   ]
  },
  {
   "cell_type": "code",
   "execution_count": 17,
   "metadata": {},
   "outputs": [
    {
     "data": {
      "text/plain": [
       "array([0., 0., 0., 0., 0., 0., 0., 0., 0., 0.])"
      ]
     },
     "execution_count": 17,
     "metadata": {},
     "output_type": "execute_result"
    }
   ],
   "source": [
    "x = np.zeros(10)\n",
    "x"
   ]
  },
  {
   "cell_type": "markdown",
   "metadata": {},
   "source": [
    "#### Q2 : Créer un vecteur Z de 40 valeurs allant de 10 à 50 "
   ]
  },
  {
   "cell_type": "code",
   "execution_count": 18,
   "metadata": {},
   "outputs": [
    {
     "data": {
      "text/plain": [
       "array([10, 11, 12, 13, 14, 15, 16, 17, 18, 19, 20, 21, 22, 23, 24, 25, 26,\n",
       "       27, 28, 29, 30, 31, 32, 33, 34, 35, 36, 37, 38, 39, 40, 41, 42, 43,\n",
       "       44, 45, 46, 47, 48, 49, 50])"
      ]
     },
     "execution_count": 18,
     "metadata": {},
     "output_type": "execute_result"
    }
   ],
   "source": [
    "Z = np.arange(10,51)\n",
    "Z"
   ]
  },
  {
   "cell_type": "markdown",
   "metadata": {},
   "source": [
    "#### Q3 : Inverser Z (le premier élément devient donc le dernier)"
   ]
  },
  {
   "cell_type": "code",
   "execution_count": 19,
   "metadata": {},
   "outputs": [
    {
     "data": {
      "text/plain": [
       "array([50, 49, 48, 47, 46, 45, 44, 43, 42, 41, 40, 39, 38, 37, 36, 35, 34,\n",
       "       33, 32, 31, 30, 29, 28, 27, 26, 25, 24, 23, 22, 21, 20, 19, 18, 17,\n",
       "       16, 15, 14, 13, 12, 11, 10])"
      ]
     },
     "execution_count": 19,
     "metadata": {},
     "output_type": "execute_result"
    }
   ],
   "source": [
    "np.flip(Z)"
   ]
  },
  {
   "cell_type": "markdown",
   "metadata": {},
   "source": [
    "#### Q4 : Créer une matrice 3x3 avec des valeurs comprise entre 0 et 8 "
   ]
  },
  {
   "cell_type": "code",
   "execution_count": 20,
   "metadata": {},
   "outputs": [
    {
     "data": {
      "text/plain": [
       "array([[6.83914593, 4.6239988 , 1.65118682],\n",
       "       [1.88188997, 4.03572534, 5.78949656],\n",
       "       [2.08011319, 1.69840137, 1.31528943]])"
      ]
     },
     "execution_count": 20,
     "metadata": {},
     "output_type": "execute_result"
    }
   ],
   "source": [
    "np.random.uniform(0,8,(3, 3))"
   ]
  },
  {
   "cell_type": "markdown",
   "metadata": {},
   "source": [
    "#### Q5 : Créer une matrice identié 3x3 "
   ]
  },
  {
   "cell_type": "code",
   "execution_count": 21,
   "metadata": {},
   "outputs": [
    {
     "data": {
      "text/plain": [
       "array([[1., 0., 0.],\n",
       "       [0., 1., 0.],\n",
       "       [0., 0., 1.]])"
      ]
     },
     "execution_count": 21,
     "metadata": {},
     "output_type": "execute_result"
    }
   ],
   "source": [
    "np.identity(3)"
   ]
  },
  {
   "cell_type": "markdown",
   "metadata": {},
   "source": [
    "#### Q6 : Créer une matrice 3x3x3 avec des valeurs random "
   ]
  },
  {
   "cell_type": "code",
   "execution_count": 22,
   "metadata": {},
   "outputs": [
    {
     "data": {
      "text/plain": [
       "array([[[-0.43035765,  3.14695911, -0.92464374],\n",
       "        [-0.50535937, -1.13606537,  0.50813095],\n",
       "        [-0.69139213, -0.20114111, -0.11941315]],\n",
       "\n",
       "       [[ 0.58589206, -0.96127649, -0.66727051],\n",
       "        [ 1.11579894,  0.83967824,  0.32797509],\n",
       "        [ 1.04997856, -1.59996197,  0.82174333]],\n",
       "\n",
       "       [[ 1.31825639,  0.75433204,  0.63671124],\n",
       "        [-0.81520293,  0.33160255, -0.58749883],\n",
       "        [-1.39605076, -0.02633263,  1.10423937]]])"
      ]
     },
     "execution_count": 22,
     "metadata": {},
     "output_type": "execute_result"
    }
   ],
   "source": [
    "np.random.randn(3, 3, 3)"
   ]
  },
  {
   "cell_type": "markdown",
   "metadata": {},
   "source": [
    "#### Q7: Créer une matrice 10x10 avec des valeurs random et afficher le minimum et maximum "
   ]
  },
  {
   "cell_type": "code",
   "execution_count": 25,
   "metadata": {},
   "outputs": [
    {
     "name": "stdout",
     "output_type": "stream",
     "text": [
      "-2.4249511277825646\n",
      "2.091579403408307\n"
     ]
    }
   ],
   "source": [
    "matrix = np.random.randn(10,10)\n",
    "print(np.min(matrix))\n",
    "print(np.max(matrix))"
   ]
  },
  {
   "cell_type": "markdown",
   "metadata": {},
   "source": [
    "#### Q8 : Créer une matrice 5x5 avec les valeurs 1,2,3,4 en dessous de la diagonale "
   ]
  },
  {
   "cell_type": "code",
   "execution_count": null,
   "metadata": {},
   "outputs": [],
   "source": [
    "matrix = np.random.randn(5,5)"
   ]
  },
  {
   "cell_type": "markdown",
   "metadata": {},
   "source": [
    "#### Q9 : Créer une liste random de taille 5, donner la somme et la moyenne de ses éléments  "
   ]
  },
  {
   "cell_type": "code",
   "execution_count": null,
   "metadata": {},
   "outputs": [],
   "source": []
  },
  {
   "cell_type": "markdown",
   "metadata": {},
   "source": [
    "#### Q10 : Soit deux tableau A et B de dimension 1 et de taille 5, créer A et B et afficher True si A et B sont égaux False sinon"
   ]
  },
  {
   "cell_type": "code",
   "execution_count": null,
   "metadata": {},
   "outputs": [],
   "source": []
  },
  {
   "cell_type": "markdown",
   "metadata": {},
   "source": [
    "#### Q11 : Normaliser une matrice random 5x5 \n",
    "la normalisation d'un nombre X consiste à lui retirer sa moyenne et a diviser le tout par l'écart type de X"
   ]
  },
  {
   "cell_type": "code",
   "execution_count": null,
   "metadata": {},
   "outputs": [],
   "source": []
  },
  {
   "cell_type": "markdown",
   "metadata": {},
   "source": [
    "#### Q12 : Créer une matrice random 2x2 et donner sa transposer \n",
    "L'opération de transposition dans une matrice consiste à échanger les lignes et le colonnes. "
   ]
  },
  {
   "cell_type": "code",
   "execution_count": null,
   "metadata": {},
   "outputs": [],
   "source": []
  },
  {
   "cell_type": "markdown",
   "metadata": {},
   "source": [
    "#### Q13 : Écrire un script qui remplace un élément au hasard dans une matrice de dimension NxN"
   ]
  },
  {
   "cell_type": "code",
   "execution_count": null,
   "metadata": {},
   "outputs": [],
   "source": []
  },
  {
   "cell_type": "markdown",
   "metadata": {},
   "source": [
    "#### Q14 : Considérons une matrice de dimension (5,5,3), écrire un script qui multiplie cette matrice par une matrice de dimension (5,5)"
   ]
  },
  {
   "cell_type": "code",
   "execution_count": null,
   "metadata": {},
   "outputs": [],
   "source": []
  },
  {
   "cell_type": "markdown",
   "metadata": {},
   "source": [
    "#### Q15 :\n",
    "**Soit $A$ la matrice tel que, $Ax=b$, où**\n",
    "\n",
    "A = $\\begin{matrix} \n",
    "1 & 3 & 3 \\\\ \n",
    "1 & 4 & 3 \\\\ \n",
    "1 & 3 & 4  \n",
    "\\end{matrix}$ et b=$(\\begin{matrix}1 & 2 & 3\\end{matrix})$ \n",
    "\n",
    "**Trouver $x$ ?**"
   ]
  },
  {
   "cell_type": "code",
   "execution_count": null,
   "metadata": {},
   "outputs": [],
   "source": []
  }
 ],
 "metadata": {
  "kernelspec": {
   "display_name": "Python 3",
   "language": "python",
   "name": "python3"
  },
  "language_info": {
   "codemirror_mode": {
    "name": "ipython",
    "version": 3
   },
   "file_extension": ".py",
   "mimetype": "text/x-python",
   "name": "python",
   "nbconvert_exporter": "python",
   "pygments_lexer": "ipython3",
   "version": "3.7.1"
  }
 },
 "nbformat": 4,
 "nbformat_minor": 2
}
