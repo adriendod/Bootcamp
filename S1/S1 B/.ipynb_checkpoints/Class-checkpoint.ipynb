{
 "cells": [
  {
   "cell_type": "code",
   "execution_count": 50,
   "metadata": {},
   "outputs": [],
   "source": [
    "class Math:\n",
    "\n",
    "    def sqrt(x):\n",
    "        return (x**1/2)\n",
    "    \n",
    "    def mean(list):\n",
    "        s = 0\n",
    "        for i in list : \n",
    "            s += i\n",
    "        return s/len(list)\n",
    " \n",
    "    list_test = [8, 2, 5, 8, 7, 8]\n",
    "\n",
    "    def median(list):\n",
    "        list_ordered = list.sort()\n",
    "        list_lenght = len(list)\n",
    "        if len(list) % 2 == 0:\n",
    "            index = len(list) / 2\n",
    "            index2 = (len(list) / 2) + 1\n",
    "            \n",
    "        else :\n",
    "            \n",
    "        \n",
    "        \n",
    "        \n",
    "    \n",
    "    def paire(x):\n",
    "        if x % 2 == 0:\n",
    "            return True\n",
    "        else:\n",
    "            return False\n",
    "        \n",
    "    def somme(list):\n",
    "        s = 0\n",
    "        for i in list :\n",
    "            s += i\n",
    "        return s\n",
    "    \n",
    "\n",
    "class Imputer:\n",
    "    \n",
    "\n",
    "    def __init__(self, liste, AvgType):\n",
    "        self.liste = liste\n",
    "        self.AvgType = AvgType\n",
    "        \n",
    "    def avg(liste):\n",
    "        for idx, val in enumerate(liste):\n",
    "            if val == None :\n",
    "                liste.pop(idx)\n",
    "                liste.insert(idx, Math.mean(liste))\n",
    "        return liste\n",
    "    \n",
    "    \n",
    "    \n",
    "    "
   ]
  },
  {
   "cell_type": "code",
   "execution_count": 43,
   "metadata": {},
   "outputs": [
    {
     "data": {
      "text/plain": [
       "2.5"
      ]
     },
     "execution_count": 43,
     "metadata": {},
     "output_type": "execute_result"
    }
   ],
   "source": [
    "Math.sqrt(5)"
   ]
  },
  {
   "cell_type": "code",
   "execution_count": 44,
   "metadata": {},
   "outputs": [
    {
     "data": {
      "text/plain": [
       "False"
      ]
     },
     "execution_count": 44,
     "metadata": {},
     "output_type": "execute_result"
    }
   ],
   "source": [
    "Math.paire(3)"
   ]
  },
  {
   "cell_type": "code",
   "execution_count": 45,
   "metadata": {},
   "outputs": [
    {
     "data": {
      "text/plain": [
       "372"
      ]
     },
     "execution_count": 45,
     "metadata": {},
     "output_type": "execute_result"
    }
   ],
   "source": [
    "Math.somme([1, 2, 5, 364])"
   ]
  },
  {
   "cell_type": "code",
   "execution_count": 46,
   "metadata": {},
   "outputs": [],
   "source": [
    "list_test = [8, 2, 5, None, 8, 7, 8]\n"
   ]
  },
  {
   "cell_type": "code",
   "execution_count": 47,
   "metadata": {},
   "outputs": [
    {
     "name": "stdout",
     "output_type": "stream",
     "text": [
      "[8, 2, 5, 6.333333333333333, 8, 7, 8]\n"
     ]
    }
   ],
   "source": [
    "new_list = Imputer.avg(list_test)\n",
    "print(new_list)\n"
   ]
  },
  {
   "cell_type": "code",
   "execution_count": 49,
   "metadata": {},
   "outputs": [
    {
     "name": "stdout",
     "output_type": "stream",
     "text": [
      "[8, 2, 5, 6.333333333333333, 8, 7, 8]\n"
     ]
    }
   ],
   "source": [
    "#imputed_list = Imputer(list_test,\"mean\")\n",
    "x = Imputer.avg(list_test)\n",
    "print(x)"
   ]
  },
  {
   "cell_type": "markdown",
   "metadata": {},
   "source": [
    "# DATETIME"
   ]
  },
  {
   "cell_type": "code",
   "execution_count": 78,
   "metadata": {},
   "outputs": [
    {
     "name": "stdout",
     "output_type": "stream",
     "text": [
      "[1, 2, 2, 5, 7, 8, 8, 8]\n",
      "7.5\n"
     ]
    }
   ],
   "source": [
    "list_test = [8, 2, 5, 8, 7, 8, 2, 1]\n",
    "\n",
    "\n",
    "list_ordered = sorted(list_test)\n",
    "print(list_ordered)\n",
    "list_lenght = len(list_test)\n",
    "index1 = int(len(list_test) / 2) - 1\n",
    "index2 = int((len(list_test) / 2))\n",
    "\n",
    "if len(list_test) % 2 == 0:\n",
    "    print((list_test[index1] + list_test[index2])/2)\n",
    "else :\n",
    "    print(list_test[index1])\n",
    "    \n",
    "\n",
    "\n",
    "\n",
    "\n",
    "            \n",
    "\n"
   ]
  },
  {
   "cell_type": "code",
   "execution_count": 55,
   "metadata": {},
   "outputs": [
    {
     "name": "stdout",
     "output_type": "stream",
     "text": [
      "None\n"
     ]
    }
   ],
   "source": [
    "median(list_test)"
   ]
  },
  {
   "cell_type": "code",
   "execution_count": null,
   "metadata": {},
   "outputs": [],
   "source": []
  }
 ],
 "metadata": {
  "kernelspec": {
   "display_name": "Python 3",
   "language": "python",
   "name": "python3"
  },
  "language_info": {
   "codemirror_mode": {
    "name": "ipython",
    "version": 3
   },
   "file_extension": ".py",
   "mimetype": "text/x-python",
   "name": "python",
   "nbconvert_exporter": "python",
   "pygments_lexer": "ipython3",
   "version": "3.7.1"
  }
 },
 "nbformat": 4,
 "nbformat_minor": 2
}
